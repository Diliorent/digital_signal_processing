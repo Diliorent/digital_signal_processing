{
  "nbformat": 4,
  "nbformat_minor": 0,
  "metadata": {
    "colab": {
      "name": "Untitled1.ipynb",
      "provenance": [],
      "collapsed_sections": []
    },
    "kernelspec": {
      "name": "python3",
      "display_name": "Python 3"
    },
    "language_info": {
      "name": "python"
    }
  },
  "cells": [
    {
      "cell_type": "markdown",
      "metadata": {
        "id": "wmdBUNr3ZJm0"
      },
      "source": [
        "Початок роботи з бібліотекою Numpy\n",
        "\n",
        "У даній лабораторній роботі розглянуто наступний функціонал бібліотеки Numpy:\n",
        "\n",
        "Створення масиву.\n",
        "\n",
        "Відображення масивів .\n",
        "\n",
        "Базові операції з масивами."
      ]
    },
    {
      "cell_type": "markdown",
      "metadata": {
        "id": "WyIBViBkZVz0"
      },
      "source": [
        "Завдання 1\n",
        "\n",
        "Створити двомірний нульовий масив розміром 11х11 та заповнити його діагоналі одиницями."
      ]
    },
    {
      "cell_type": "code",
      "metadata": {
        "id": "ykiOcbQCJ_5H"
      },
      "source": [
        "import numpy as np\n",
        "import cv2\n",
        "import matplotlib.pyplot as plt"
      ],
      "execution_count": 2,
      "outputs": []
    },
    {
      "cell_type": "code",
      "metadata": {
        "id": "Tg3vPgJbKzf_"
      },
      "source": [
        "size = 11\n",
        "arr = np.zeros((size,size))"
      ],
      "execution_count": 3,
      "outputs": []
    },
    {
      "cell_type": "code",
      "metadata": {
        "id": "0_ywBk8oK60P"
      },
      "source": [
        "print(arr)"
      ],
      "execution_count": null,
      "outputs": []
    },
    {
      "cell_type": "code",
      "metadata": {
        "id": "18odrx5iMVDT"
      },
      "source": [
        "for i in range(size):\n",
        "  arr[i][i] = 1\n",
        "  arr[i][(i-10)*-1] = 1"
      ],
      "execution_count": null,
      "outputs": []
    },
    {
      "cell_type": "code",
      "metadata": {
        "colab": {
          "base_uri": "https://localhost:8080/"
        },
        "id": "Ykzgk0l4Nxr7",
        "outputId": "5a9ebf53-a800-48fc-f9d3-92dd5245b29c"
      },
      "source": [
        "print(arr)"
      ],
      "execution_count": null,
      "outputs": [
        {
          "output_type": "stream",
          "name": "stdout",
          "text": [
            "[[1. 0. 0. 0. 0. 0. 0. 0. 0. 0. 1.]\n",
            " [0. 1. 0. 0. 0. 0. 0. 0. 0. 1. 0.]\n",
            " [0. 0. 1. 0. 0. 0. 0. 0. 1. 0. 0.]\n",
            " [0. 0. 0. 1. 0. 0. 0. 1. 0. 0. 0.]\n",
            " [0. 0. 0. 0. 1. 0. 1. 0. 0. 0. 0.]\n",
            " [0. 0. 0. 0. 0. 1. 0. 0. 0. 0. 0.]\n",
            " [0. 0. 0. 0. 1. 0. 1. 0. 0. 0. 0.]\n",
            " [0. 0. 0. 1. 0. 0. 0. 1. 0. 0. 0.]\n",
            " [0. 0. 1. 0. 0. 0. 0. 0. 1. 0. 0.]\n",
            " [0. 1. 0. 0. 0. 0. 0. 0. 0. 1. 0.]\n",
            " [1. 0. 0. 0. 0. 0. 0. 0. 0. 0. 1.]]\n"
          ]
        }
      ]
    },
    {
      "cell_type": "markdown",
      "metadata": {
        "id": "FQMmmS3G9dxc"
      },
      "source": [
        "Завдання 2\n",
        "\n",
        "Засобами NumPy створити вертикальні та горизонтальні зображення градієнту в обидва боки."
      ]
    },
    {
      "cell_type": "code",
      "metadata": {
        "id": "aMjT69nzN0NI"
      },
      "source": [
        "\n",
        "size = 255"
      ],
      "execution_count": 40,
      "outputs": []
    },
    {
      "cell_type": "markdown",
      "metadata": {
        "id": "_IQjo8wXYV0E"
      },
      "source": [
        "Горизонтальнi градієнти"
      ]
    },
    {
      "cell_type": "code",
      "metadata": {
        "id": "wm6xW7kXZkjp"
      },
      "source": [
        ""
      ],
      "execution_count": null,
      "outputs": []
    },
    {
      "cell_type": "code",
      "metadata": {
        "id": "MguA6VikOTeN",
        "colab": {
          "base_uri": "https://localhost:8080/"
        },
        "outputId": "368de5da-3640-4d6a-99c3-3697439deb60"
      },
      "source": [
        "horizontal_gradient1 = np.zeros((size,size))\n",
        "w = horizontal_gradient1.shape[1]\n",
        "h = horizontal_gradient1.shape[0]\n",
        "for i in range(size):\n",
        "    for j in range(size):\n",
        "        horizontal_gradient1[i][j] = j\n",
        "cv2.imwrite('horizontal_grad1.jpg', horizontal_gradient1)"
      ],
      "execution_count": 42,
      "outputs": [
        {
          "output_type": "execute_result",
          "data": {
            "text/plain": [
              "True"
            ]
          },
          "metadata": {},
          "execution_count": 42
        }
      ]
    },
    {
      "cell_type": "code",
      "metadata": {
        "colab": {
          "base_uri": "https://localhost:8080/"
        },
        "id": "tA_hOA7FXZjn",
        "outputId": "dcbf452c-d9bc-4218-d95b-97101d2495c6"
      },
      "source": [
        "horizontal_gradient2 = np.zeros((size,size))\n",
        "w = horizontal_gradient1.shape[1]\n",
        "h = horizontal_gradient1.shape[0]\n",
        "for i in range(size):\n",
        "    for j in range(size):\n",
        "        horizontal_gradient2[i][j] = 255-j\n",
        "cv2.imwrite('horizontal_grad2.jpg', horizontal_gradient2)"
      ],
      "execution_count": 44,
      "outputs": [
        {
          "output_type": "execute_result",
          "data": {
            "text/plain": [
              "True"
            ]
          },
          "metadata": {},
          "execution_count": 44
        }
      ]
    },
    {
      "cell_type": "markdown",
      "metadata": {
        "id": "d58REmjWYdVn"
      },
      "source": [
        "\n",
        "Вертикальні градієнти"
      ]
    },
    {
      "cell_type": "code",
      "metadata": {
        "colab": {
          "base_uri": "https://localhost:8080/"
        },
        "id": "ua1_0lN1YiY6",
        "outputId": "f2fa127f-c6e0-4e70-c5ba-260248ea00b0"
      },
      "source": [
        "vertical_gradient1 = np.zeros((size,size))\n",
        "w = vertical_gradient1.shape[1]\n",
        "h = vertical_gradient1.shape[0]\n",
        "for i in range(size):\n",
        "    for j in range(size):\n",
        "        vertical_gradient1[i][j] = i\n",
        "cv2.imwrite('vertical_grad1.jpg', vertical_gradient1)"
      ],
      "execution_count": 47,
      "outputs": [
        {
          "output_type": "execute_result",
          "data": {
            "text/plain": [
              "True"
            ]
          },
          "metadata": {},
          "execution_count": 47
        }
      ]
    },
    {
      "cell_type": "code",
      "metadata": {
        "colab": {
          "base_uri": "https://localhost:8080/"
        },
        "id": "jpWvJMN4Y0zW",
        "outputId": "d4461e76-3745-431a-e994-492bb5b769d7"
      },
      "source": [
        "vertical_gradient2 = np.zeros((size,size))\n",
        "w = vertical_gradient2.shape[1]\n",
        "h = vertical_gradient2.shape[0]\n",
        "for i in range(size):\n",
        "    for j in range(size):\n",
        "        vertical_gradient2[i][j] = 255-i\n",
        "cv2.imwrite('vertical_grad2.jpg', vertical_gradient2)"
      ],
      "execution_count": 48,
      "outputs": [
        {
          "output_type": "execute_result",
          "data": {
            "text/plain": [
              "True"
            ]
          },
          "metadata": {},
          "execution_count": 48
        }
      ]
    }
  ]
}