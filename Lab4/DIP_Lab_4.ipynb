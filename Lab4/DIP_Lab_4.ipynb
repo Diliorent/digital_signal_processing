{
  "nbformat": 4,
  "nbformat_minor": 0,
  "metadata": {
    "colab": {
      "name": "DIP_Lab_4.ipynb",
      "provenance": [],
      "authorship_tag": "ABX9TyNDLUl4QNWqiz0dP6VW16Kd",
      "include_colab_link": true
    },
    "kernelspec": {
      "name": "python3",
      "display_name": "Python 3"
    },
    "language_info": {
      "name": "python"
    }
  },
  "cells": [
    {
      "cell_type": "markdown",
      "metadata": {
        "id": "view-in-github",
        "colab_type": "text"
      },
      "source": [
        "<a href=\"https://colab.research.google.com/github/Diliorent/digital_signal_processing/blob/main/Lab4/DIP_Lab_4.ipynb\" target=\"_parent\"><img src=\"https://colab.research.google.com/assets/colab-badge.svg\" alt=\"Open In Colab\"/></a>"
      ]
    },
    {
      "cell_type": "markdown",
      "source": [
        "Завдання\n",
        "1. Збільшити датасет\n",
        "1.1 Отримати список зображень у директорії \"./assignemnts/dataset\""
      ],
      "metadata": {
        "id": "JZphXQIJibnb"
      }
    },
    {
      "cell_type": "code",
      "source": [
        "import os \n",
        "import cv2\n",
        "import numpy as np \n",
        "import matplotlib.pyplot as plt"
      ],
      "metadata": {
        "id": "01Vvw8TAiPV_"
      },
      "execution_count": null,
      "outputs": []
    },
    {
      "cell_type": "markdown",
      "source": [
        "1.2 Реалізувати функцію аугментації зображення шляхом комбінацій наступних перетворень:\n",
        "\n",
        "поелементне перетворення:\n",
        "інверсія яскравості пікселів\n",
        "гамма корекція яскравості пікселів\n",
        "просторова фільтраці:\n",
        "згладжування зображення\n",
        "геометричне перетворення:\n",
        "перевернути зображення горизонтально/вертикально\n",
        "переміщення зображення\n",
        "обертання зображення\n",
        "перекіс зображення"
      ],
      "metadata": {
        "id": "508gJu4Iif6O"
      }
    },
    {
      "cell_type": "code",
      "source": [
        "img_list = os.listdir('./dataset')"
      ],
      "metadata": {
        "colab": {
          "base_uri": "https://localhost:8080/",
          "height": 165
        },
        "id": "k0XXXqLNj-EM",
        "outputId": "314394d2-bc80-47e1-a8dc-9005b2c70e5e"
      },
      "execution_count": 2,
      "outputs": [
        {
          "output_type": "error",
          "ename": "FileNotFoundError",
          "evalue": "ignored",
          "traceback": [
            "\u001b[0;31m---------------------------------------------------------------------------\u001b[0m",
            "\u001b[0;31mFileNotFoundError\u001b[0m                         Traceback (most recent call last)",
            "\u001b[0;32m<ipython-input-2-87bef1527891>\u001b[0m in \u001b[0;36m<module>\u001b[0;34m()\u001b[0m\n\u001b[0;32m----> 1\u001b[0;31m \u001b[0mimg_list\u001b[0m \u001b[0;34m=\u001b[0m \u001b[0mos\u001b[0m\u001b[0;34m.\u001b[0m\u001b[0mlistdir\u001b[0m\u001b[0;34m(\u001b[0m\u001b[0;34m'./dataset'\u001b[0m\u001b[0;34m)\u001b[0m\u001b[0;34m\u001b[0m\u001b[0;34m\u001b[0m\u001b[0m\n\u001b[0m",
            "\u001b[0;31mFileNotFoundError\u001b[0m: [Errno 2] No such file or directory: './dataset'"
          ]
        }
      ]
    }
  ]
}